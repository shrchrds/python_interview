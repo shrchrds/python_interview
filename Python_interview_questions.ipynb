{
 "cells": [
  {
   "cell_type": "markdown",
   "id": "949668c3-3995-43a8-9de8-bc68b642ff12",
   "metadata": {},
   "source": [
    "### Sharing my Python interview questions asked in my latest interview"
   ]
  },
  {
   "cell_type": "markdown",
   "id": "89d0c3f9-a2ab-47eb-b57d-6854a0f8104c",
   "metadata": {},
   "source": [
    "### 1. Given a string `Hello`. Write a python program to get output `H1e1l2o1`"
   ]
  },
  {
   "cell_type": "code",
   "execution_count": 1,
   "id": "b23629ab-3843-499f-896b-a9d29161b2d2",
   "metadata": {},
   "outputs": [
    {
     "name": "stdout",
     "output_type": "stream",
     "text": [
      "Unique characters in string: Helo\n",
      "Final output string with count of each characters: H1e1l2o1\n"
     ]
    }
   ],
   "source": [
    "s1 = 'Hello'\n",
    "o = \"\"\n",
    "# finding unique characters in string\n",
    "u = \"\"\n",
    "for i in s1:\n",
    "    if i not in u:\n",
    "        u +=i\n",
    "print(f\"Unique characters in string: {u}\")\n",
    "# finding count of unique characters\n",
    "for i in u:\n",
    "    o += f\"{i}{s1.count(i)}\"\n",
    "print(f\"Final output string with count of each characters: {o}\")"
   ]
  },
  {
   "cell_type": "markdown",
   "id": "1612f5df-0b75-432d-b819-b8e35d2f211a",
   "metadata": {},
   "source": [
    "### 2. Write a program to print following sequence `2 8 18 32`"
   ]
  },
  {
   "cell_type": "code",
   "execution_count": 2,
   "id": "e17a0f6b-f50e-413f-811b-88d0aa937be9",
   "metadata": {},
   "outputs": [
    {
     "name": "stdout",
     "output_type": "stream",
     "text": [
      "2 8 18 32 "
     ]
    }
   ],
   "source": [
    "# he we have to find square of number and multiply it by 2\n",
    "\n",
    "for i in range(4):\n",
    "    print(2*(i+1)**2, end=' ')"
   ]
  }
 ],
 "metadata": {
  "kernelspec": {
   "display_name": "Python 3 (ipykernel)",
   "language": "python",
   "name": "python3"
  },
  "language_info": {
   "codemirror_mode": {
    "name": "ipython",
    "version": 3
   },
   "file_extension": ".py",
   "mimetype": "text/x-python",
   "name": "python",
   "nbconvert_exporter": "python",
   "pygments_lexer": "ipython3",
   "version": "3.10.6"
  }
 },
 "nbformat": 4,
 "nbformat_minor": 5
}
